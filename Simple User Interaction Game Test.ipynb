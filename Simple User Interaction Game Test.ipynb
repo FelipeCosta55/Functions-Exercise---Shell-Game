{
 "cells": [
  {
   "cell_type": "code",
   "execution_count": 13,
   "id": "5808d8b2",
   "metadata": {},
   "outputs": [],
   "source": [
    "game_list = [0,1,2]"
   ]
  },
  {
   "cell_type": "code",
   "execution_count": 14,
   "id": "45294417",
   "metadata": {},
   "outputs": [],
   "source": [
    "def display_game(game_list):\n",
    "    print(\"Here is the current list:\")\n",
    "    print(game_list)"
   ]
  },
  {
   "cell_type": "code",
   "execution_count": 15,
   "id": "872a5ff7",
   "metadata": {},
   "outputs": [
    {
     "name": "stdout",
     "output_type": "stream",
     "text": [
      "Here is the current list:\n",
      "[0, 1, 2]\n"
     ]
    }
   ],
   "source": [
    "display_game(game_list)"
   ]
  },
  {
   "cell_type": "code",
   "execution_count": 16,
   "id": "e5e9c4dc",
   "metadata": {},
   "outputs": [],
   "source": [
    "def position_choice():\n",
    "    \n",
    "    choice = \"wrong\"\n",
    "    \n",
    "    while choice not in [\"0\",\"1\",\"2\"]:\n",
    "        choice = input(\"Pick a position (0,1,2): \")\n",
    "        \n",
    "        if choice not in [\"0\",\"1\",\"2\"]:\n",
    "            print(\"Sorry, invalid choice.\")\n",
    "            \n",
    "    return int(choice)"
   ]
  },
  {
   "cell_type": "code",
   "execution_count": 17,
   "id": "4b16198f",
   "metadata": {},
   "outputs": [
    {
     "name": "stdout",
     "output_type": "stream",
     "text": [
      "Pick a position (0,1,2): 1\n"
     ]
    }
   ],
   "source": [
    "choice = position_choice()"
   ]
  },
  {
   "cell_type": "code",
   "execution_count": 18,
   "id": "28af7f6a",
   "metadata": {},
   "outputs": [],
   "source": [
    "def replacement_choice(game_list,position):\n",
    "    \n",
    "    user_placement = input(\"Type a string to replace at position: \")\n",
    "    game_list[position] = user_placement\n",
    "    \n",
    "    return game_list"
   ]
  },
  {
   "cell_type": "code",
   "execution_count": 19,
   "id": "1f7c6ddf",
   "metadata": {},
   "outputs": [
    {
     "name": "stdout",
     "output_type": "stream",
     "text": [
      "Type a string to replace at position: test\n"
     ]
    },
    {
     "data": {
      "text/plain": [
       "[0, 'test', 2]"
      ]
     },
     "execution_count": 19,
     "metadata": {},
     "output_type": "execute_result"
    }
   ],
   "source": [
    "replacement_choice(game_list, 1)"
   ]
  },
  {
   "cell_type": "code",
   "execution_count": 21,
   "id": "90aee8c3",
   "metadata": {},
   "outputs": [],
   "source": [
    "def gameon_choice():\n",
    "    \n",
    "    play_again = \"wrong\"\n",
    "    \n",
    "    while play_again not in [\"Y\",\"N\"]:\n",
    "        play_again = input(\"Do you want to keep playing? Y or N: \")\n",
    "        \n",
    "        if play_again not in [\"Y\", \"N\"]:\n",
    "            print(\"Sorry, invalid choice.\")\n",
    "            \n",
    "    if play_again == \"Y\":\n",
    "        return True\n",
    "    else:\n",
    "        return False"
   ]
  },
  {
   "cell_type": "code",
   "execution_count": 22,
   "id": "6b41a71b",
   "metadata": {},
   "outputs": [
    {
     "name": "stdout",
     "output_type": "stream",
     "text": [
      "Do you want to keep playing? Y or N: Y\n"
     ]
    },
    {
     "data": {
      "text/plain": [
       "True"
      ]
     },
     "execution_count": 22,
     "metadata": {},
     "output_type": "execute_result"
    }
   ],
   "source": [
    "gameon_choice()"
   ]
  },
  {
   "cell_type": "code",
   "execution_count": 23,
   "id": "7db14e80",
   "metadata": {},
   "outputs": [
    {
     "name": "stdout",
     "output_type": "stream",
     "text": [
      "Here is the current list:\n",
      "[0, 1, 2]\n",
      "Pick a position (0,1,2): two\n",
      "Sorry, invalid choice.\n",
      "Pick a position (0,1,2): 1\n",
      "Type a string to replace at position: my choice\n",
      "Here is the current list:\n",
      "[0, 'my choice', 2]\n",
      "Do you want to keep playing? Y or N: Y\n",
      "Here is the current list:\n",
      "[0, 'my choice', 2]\n",
      "Pick a position (0,1,2): 2\n",
      "Type a string to replace at position: Felipe\n",
      "Here is the current list:\n",
      "[0, 'my choice', 'Felipe']\n",
      "Do you want to keep playing? Y or N: N\n"
     ]
    }
   ],
   "source": [
    "game_on = True\n",
    "game_list = [0,1,2]\n",
    "\n",
    "while game_on == True:\n",
    "    # Display to Start the Game.\n",
    "    display_game(game_list)\n",
    "    \n",
    "    # Get the user choice.\n",
    "    position = position_choice()\n",
    "    \n",
    "    # User replace based on his choice.\n",
    "    game_list = replacement_choice(game_list,position)\n",
    "    \n",
    "    # Display the current list.\n",
    "    display_game(game_list)\n",
    "    \n",
    "    # Ask if keep playing.\n",
    "    game_on = gameon_choice()\n",
    "    "
   ]
  },
  {
   "cell_type": "code",
   "execution_count": null,
   "id": "42592bcd",
   "metadata": {},
   "outputs": [],
   "source": []
  }
 ],
 "metadata": {
  "kernelspec": {
   "display_name": "Python 3 (ipykernel)",
   "language": "python",
   "name": "python3"
  },
  "language_info": {
   "codemirror_mode": {
    "name": "ipython",
    "version": 3
   },
   "file_extension": ".py",
   "mimetype": "text/x-python",
   "name": "python",
   "nbconvert_exporter": "python",
   "pygments_lexer": "ipython3",
   "version": "3.9.12"
  }
 },
 "nbformat": 4,
 "nbformat_minor": 5
}
