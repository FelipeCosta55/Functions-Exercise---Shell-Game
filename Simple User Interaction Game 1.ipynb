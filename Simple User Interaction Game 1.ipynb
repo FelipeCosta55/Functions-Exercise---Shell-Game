{
 "cells": [
  {
   "cell_type": "code",
   "execution_count": 22,
   "id": "eb08e8b3",
   "metadata": {},
   "outputs": [],
   "source": [
    "my_list = [' ',' ',' ']"
   ]
  },
  {
   "cell_type": "code",
   "execution_count": 23,
   "id": "af30fb84",
   "metadata": {},
   "outputs": [],
   "source": [
    "def display_list(my_list):\n",
    "    my_list = [' ',' ',' ']\n",
    "    print(my_list)\n",
    "    return my_list"
   ]
  },
  {
   "cell_type": "code",
   "execution_count": 24,
   "id": "af86ed7e",
   "metadata": {},
   "outputs": [],
   "source": [
    "def rand_shuffle(my_list):\n",
    "    \n",
    "    from random import shuffle\n",
    "    from random import randint\n",
    "    \n",
    "    rand_position = randint(0,len(my_list) - 1)\n",
    "    my_list[rand_position] = 'O'\n",
    "    \n",
    "    return \n"
   ]
  },
  {
   "cell_type": "code",
   "execution_count": 25,
   "id": "91978193",
   "metadata": {},
   "outputs": [],
   "source": [
    "rand_shuffle(my_list)"
   ]
  },
  {
   "cell_type": "code",
   "execution_count": 26,
   "id": "7becb581",
   "metadata": {},
   "outputs": [],
   "source": [
    "def user_guess():\n",
    "    guess = \"\"\n",
    "    \n",
    "    while guess not in [\"0\",\"1\",\"2\"]:\n",
    "        \n",
    "        guess = input(\"Guess a position (0,1 or 2): \")\n",
    "        \n",
    "        if guess not in [\"0\",\"1\",\"2\"]:\n",
    "            print(\"Please guess a valid position.\")\n",
    "        \n",
    "    \n",
    "    \n",
    "    return int(guess)\n",
    "    "
   ]
  },
  {
   "cell_type": "code",
   "execution_count": 27,
   "id": "8c1a91e0",
   "metadata": {},
   "outputs": [],
   "source": [
    "def compare_choice(position,guess):\n",
    "    if position == guess:\n",
    "        print(\"Your guess is right. You win!\")\n",
    "    else:\n",
    "        print(\"Your guess is wrong. You lose!\")"
   ]
  },
  {
   "cell_type": "code",
   "execution_count": 28,
   "id": "317e0704",
   "metadata": {},
   "outputs": [],
   "source": [
    "def play_again():\n",
    "    play_choice = input(\"Do you want to play again? Y or N \")\n",
    "    if play_choice == \"Y\":\n",
    "        return True\n",
    "    else:\n",
    "        return False"
   ]
  },
  {
   "cell_type": "code",
   "execution_count": null,
   "id": "a19fb1b2",
   "metadata": {},
   "outputs": [
    {
     "name": "stdout",
     "output_type": "stream",
     "text": [
      "[' ', ' ', ' ']\n",
      "Guess a position (0,1 or 2): 1\n",
      "[' ', 'O', ' ']\n",
      "Your guess is wrong. You lose!\n",
      "Do you want to play again? Y or N Y\n",
      "[' ', ' ', ' ']\n",
      "Guess a position (0,1 or 2): 2\n",
      "[' ', 'O', ' ']\n",
      "Your guess is wrong. You lose!\n"
     ]
    }
   ],
   "source": [
    "gameon = True\n",
    "my_list = [' ',' ',' ']\n",
    "\n",
    "while gameon == True:\n",
    "    \n",
    "    # Print information\n",
    "    display_list(my_list)\n",
    "    \n",
    "    position = rand_shuffle(my_list)\n",
    "    \n",
    "    # Let the user input and work with the input.\n",
    "    guess = user_guess()\n",
    "    print(my_list)\n",
    "    \n",
    "    # Print new information\n",
    "    compare_choice(position,guess)\n",
    "    \n",
    "    # Run again\n",
    "    gameon = play_again()\n",
    "    \n",
    "    "
   ]
  },
  {
   "cell_type": "code",
   "execution_count": null,
   "id": "ec7619bf",
   "metadata": {},
   "outputs": [],
   "source": []
  }
 ],
 "metadata": {
  "kernelspec": {
   "display_name": "Python 3 (ipykernel)",
   "language": "python",
   "name": "python3"
  },
  "language_info": {
   "codemirror_mode": {
    "name": "ipython",
    "version": 3
   },
   "file_extension": ".py",
   "mimetype": "text/x-python",
   "name": "python",
   "nbconvert_exporter": "python",
   "pygments_lexer": "ipython3",
   "version": "3.9.12"
  }
 },
 "nbformat": 4,
 "nbformat_minor": 5
}
